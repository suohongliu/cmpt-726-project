{
 "cells": [
  {
   "cell_type": "code",
   "execution_count": 2,
   "metadata": {},
   "outputs": [
    {
     "name": "stderr",
     "output_type": "stream",
     "text": [
      "C:\\Users\\xiaob\\anaconda3\\envs\\project_726\\lib\\site-packages\\tensorflow\\python\\framework\\dtypes.py:516: FutureWarning: Passing (type, 1) or '1type' as a synonym of type is deprecated; in a future version of numpy, it will be understood as (type, (1,)) / '(1,)type'.\n",
      "  _np_qint8 = np.dtype([(\"qint8\", np.int8, 1)])\n",
      "C:\\Users\\xiaob\\anaconda3\\envs\\project_726\\lib\\site-packages\\tensorflow\\python\\framework\\dtypes.py:517: FutureWarning: Passing (type, 1) or '1type' as a synonym of type is deprecated; in a future version of numpy, it will be understood as (type, (1,)) / '(1,)type'.\n",
      "  _np_quint8 = np.dtype([(\"quint8\", np.uint8, 1)])\n",
      "C:\\Users\\xiaob\\anaconda3\\envs\\project_726\\lib\\site-packages\\tensorflow\\python\\framework\\dtypes.py:518: FutureWarning: Passing (type, 1) or '1type' as a synonym of type is deprecated; in a future version of numpy, it will be understood as (type, (1,)) / '(1,)type'.\n",
      "  _np_qint16 = np.dtype([(\"qint16\", np.int16, 1)])\n",
      "C:\\Users\\xiaob\\anaconda3\\envs\\project_726\\lib\\site-packages\\tensorflow\\python\\framework\\dtypes.py:519: FutureWarning: Passing (type, 1) or '1type' as a synonym of type is deprecated; in a future version of numpy, it will be understood as (type, (1,)) / '(1,)type'.\n",
      "  _np_quint16 = np.dtype([(\"quint16\", np.uint16, 1)])\n",
      "C:\\Users\\xiaob\\anaconda3\\envs\\project_726\\lib\\site-packages\\tensorflow\\python\\framework\\dtypes.py:520: FutureWarning: Passing (type, 1) or '1type' as a synonym of type is deprecated; in a future version of numpy, it will be understood as (type, (1,)) / '(1,)type'.\n",
      "  _np_qint32 = np.dtype([(\"qint32\", np.int32, 1)])\n",
      "C:\\Users\\xiaob\\anaconda3\\envs\\project_726\\lib\\site-packages\\tensorflow\\python\\framework\\dtypes.py:525: FutureWarning: Passing (type, 1) or '1type' as a synonym of type is deprecated; in a future version of numpy, it will be understood as (type, (1,)) / '(1,)type'.\n",
      "  np_resource = np.dtype([(\"resource\", np.ubyte, 1)])\n",
      "C:\\Users\\xiaob\\anaconda3\\envs\\project_726\\lib\\site-packages\\tensorboard\\compat\\tensorflow_stub\\dtypes.py:541: FutureWarning: Passing (type, 1) or '1type' as a synonym of type is deprecated; in a future version of numpy, it will be understood as (type, (1,)) / '(1,)type'.\n",
      "  _np_qint8 = np.dtype([(\"qint8\", np.int8, 1)])\n",
      "C:\\Users\\xiaob\\anaconda3\\envs\\project_726\\lib\\site-packages\\tensorboard\\compat\\tensorflow_stub\\dtypes.py:542: FutureWarning: Passing (type, 1) or '1type' as a synonym of type is deprecated; in a future version of numpy, it will be understood as (type, (1,)) / '(1,)type'.\n",
      "  _np_quint8 = np.dtype([(\"quint8\", np.uint8, 1)])\n",
      "C:\\Users\\xiaob\\anaconda3\\envs\\project_726\\lib\\site-packages\\tensorboard\\compat\\tensorflow_stub\\dtypes.py:543: FutureWarning: Passing (type, 1) or '1type' as a synonym of type is deprecated; in a future version of numpy, it will be understood as (type, (1,)) / '(1,)type'.\n",
      "  _np_qint16 = np.dtype([(\"qint16\", np.int16, 1)])\n",
      "C:\\Users\\xiaob\\anaconda3\\envs\\project_726\\lib\\site-packages\\tensorboard\\compat\\tensorflow_stub\\dtypes.py:544: FutureWarning: Passing (type, 1) or '1type' as a synonym of type is deprecated; in a future version of numpy, it will be understood as (type, (1,)) / '(1,)type'.\n",
      "  _np_quint16 = np.dtype([(\"quint16\", np.uint16, 1)])\n",
      "C:\\Users\\xiaob\\anaconda3\\envs\\project_726\\lib\\site-packages\\tensorboard\\compat\\tensorflow_stub\\dtypes.py:545: FutureWarning: Passing (type, 1) or '1type' as a synonym of type is deprecated; in a future version of numpy, it will be understood as (type, (1,)) / '(1,)type'.\n",
      "  _np_qint32 = np.dtype([(\"qint32\", np.int32, 1)])\n",
      "C:\\Users\\xiaob\\anaconda3\\envs\\project_726\\lib\\site-packages\\tensorboard\\compat\\tensorflow_stub\\dtypes.py:550: FutureWarning: Passing (type, 1) or '1type' as a synonym of type is deprecated; in a future version of numpy, it will be understood as (type, (1,)) / '(1,)type'.\n",
      "  np_resource = np.dtype([(\"resource\", np.ubyte, 1)])\n"
     ]
    }
   ],
   "source": [
    "import os\n",
    "import pandas as pd\n",
    "import numpy as np\n",
    "import matplotlib.pyplot as plt\n",
    "import tensorflow as tf\n",
    "from tensorflow import keras\n",
    "from sklearn.preprocessing import LabelBinarizer"
   ]
  },
  {
   "cell_type": "code",
   "execution_count": 11,
   "metadata": {},
   "outputs": [
    {
     "name": "stdout",
     "output_type": "stream",
     "text": [
      "I:\\cmpt-726-project\\code\\model\n",
      "I:\\cmpt-726-project\\code\n",
      "I:\\cmpt-726-project\n"
     ]
    }
   ],
   "source": [
    "import os\n",
    "p = os.path.abspath(os.getcwd())\n",
    "p1, _ = os.path.split(p)\n",
    "datapath, _ = os.path.split(p1)\n",
    "print(p)\n",
    "print(p1)\n",
    "print(datapath)"
   ]
  },
  {
   "cell_type": "code",
   "execution_count": 14,
   "metadata": {},
   "outputs": [],
   "source": [
    "train_image = pd.read_csv(datapath + '\\data\\data2\\\\train.csv')\n",
    "test_image = pd.read_csv(datapath + '\\data\\data2\\\\test.csv')\n",
    "\n",
    "train_labels = np.array(train_image['label'].values)\n",
    "train_images = np.array(train_image.drop('label',axis=1).values)\n",
    "\n",
    "test_labels = np.array(test_image['label'].values)\n",
    "test_images = np.array(test_image.drop('label',axis=1).values)"
   ]
  },
  {
   "cell_type": "code",
   "execution_count": 15,
   "metadata": {},
   "outputs": [],
   "source": [
    "train_images = train_images / 255.0\n",
    "train_images = train_images.reshape(train_images.shape[0], 60, 60, 1)"
   ]
  },
  {
   "cell_type": "code",
   "execution_count": 16,
   "metadata": {},
   "outputs": [],
   "source": [
    "test_images = test_images / 255.0\n",
    "test_images = test_images.reshape(test_images.shape[0], 60, 60, 1)"
   ]
  },
  {
   "cell_type": "code",
   "execution_count": 17,
   "metadata": {},
   "outputs": [],
   "source": [
    "lb = LabelBinarizer()\n",
    "train_labels = lb.fit_transform(train_labels)\n",
    "test_labels = lb.fit_transform(test_labels)"
   ]
  },
  {
   "cell_type": "code",
   "execution_count": 24,
   "metadata": {},
   "outputs": [],
   "source": [
    "from tensorflow.keras import Sequential\n",
    "from tensorflow.keras.layers import Conv2D,MaxPooling2D,Flatten,Dense"
   ]
  },
  {
   "cell_type": "code",
   "execution_count": 26,
   "metadata": {},
   "outputs": [
    {
     "name": "stdout",
     "output_type": "stream",
     "text": [
      "Train on 2845 samples, validate on 569 samples\n",
      "Epoch 1/10\n",
      "2845/2845 [==============================] - 5s 2ms/sample - loss: 2.6710 - acc: 0.1441 - val_loss: 2.3639 - val_acc: 0.1880\n",
      "Epoch 2/10\n",
      "2845/2845 [==============================] - 5s 2ms/sample - loss: 2.0681 - acc: 0.2953 - val_loss: 1.8849 - val_acc: 0.3585\n",
      "Epoch 3/10\n",
      "2845/2845 [==============================] - 5s 2ms/sample - loss: 1.5718 - acc: 0.5047 - val_loss: 1.3951 - val_acc: 0.5800\n",
      "Epoch 4/10\n",
      "2845/2845 [==============================] - 5s 2ms/sample - loss: 1.2819 - acc: 0.6116 - val_loss: 1.1583 - val_acc: 0.6309\n",
      "Epoch 5/10\n",
      "2845/2845 [==============================] - 5s 2ms/sample - loss: 1.0964 - acc: 0.6668 - val_loss: 0.9923 - val_acc: 0.6907\n",
      "Epoch 6/10\n",
      "2845/2845 [==============================] - 5s 2ms/sample - loss: 0.9624 - acc: 0.6896 - val_loss: 0.9093 - val_acc: 0.7206\n",
      "Epoch 7/10\n",
      "2845/2845 [==============================] - 5s 2ms/sample - loss: 0.8766 - acc: 0.7293 - val_loss: 0.7830 - val_acc: 0.7452\n",
      "Epoch 8/10\n",
      "2845/2845 [==============================] - 5s 2ms/sample - loss: 0.7521 - acc: 0.7603 - val_loss: 0.6741 - val_acc: 0.7961\n",
      "Epoch 9/10\n",
      "2845/2845 [==============================] - 5s 2ms/sample - loss: 0.6483 - acc: 0.7958 - val_loss: 0.6016 - val_acc: 0.8418\n",
      "Epoch 10/10\n",
      "2845/2845 [==============================] - 5s 2ms/sample - loss: 0.5641 - acc: 0.8334 - val_loss: 0.5096 - val_acc: 0.8647\n"
     ]
    },
    {
     "data": {
      "text/plain": [
       "<tensorflow.python.keras.callbacks.History at 0x278a06d72e8>"
      ]
     },
     "execution_count": 26,
     "metadata": {},
     "output_type": "execute_result"
    }
   ],
   "source": [
    "# Build and train neural network\n",
    "model = Sequential([\n",
    "    Conv2D(64, (8,8), padding='same', activation='relu', input_shape=(60,60,1)),\n",
    "    MaxPooling2D(2,2),\n",
    "    Flatten(),\n",
    "    Dense(10, activation='relu'),\n",
    "    Dense(24, activation='softmax')\n",
    "])\n",
    "\n",
    "# Compile neural network\n",
    "model.compile(optimizer='adam',\n",
    "             loss='categorical_crossentropy',\n",
    "             metrics=['accuracy']\n",
    "             )\n",
    "\n",
    "# Train the neural network\n",
    "model.fit(train_images, train_labels, epochs=10, validation_data = (test_images,test_labels))"
   ]
  },
  {
   "cell_type": "code",
   "execution_count": 27,
   "metadata": {},
   "outputs": [
    {
     "name": "stdout",
     "output_type": "stream",
     "text": [
      "569/569 [==============================] - 0s 491us/sample - loss: 0.5096 - acc: 0.8647\n",
      "Model 1: Test loss: 0.5095922550962344, Test accuracy: 86.46748661994934\n"
     ]
    }
   ],
   "source": [
    "test_loss, test_accuracy = model.evaluate(test_images, test_labels)\n",
    "\n",
    "print('Model 1: Test loss: {}, Test accuracy: {}'.format(test_loss, (test_accuracy)*100))"
   ]
  },
  {
   "cell_type": "code",
   "execution_count": 28,
   "metadata": {},
   "outputs": [
    {
     "name": "stdout",
     "output_type": "stream",
     "text": [
      "{'loss': [2.6710032691016976, 2.0680921681526465, 1.5717589143709474, 1.2819188989528663, 1.096436982247029, 0.9624408620522604, 0.8766189987504419, 0.7521043276116383, 0.6483274120438078, 0.5641486023871886], 'acc': [0.14411248, 0.29525483, 0.5047452, 0.6115993, 0.6667838, 0.6896309, 0.72934973, 0.7602812, 0.7957821, 0.8333919], 'val_loss': [2.3638617208846213, 1.8848681273904542, 1.3950652011878042, 1.1583397350747053, 0.9922633989205051, 0.9093329001394852, 0.7829648070888485, 0.6741061514416982, 0.6016488147012379, 0.5095922609624209], 'val_acc': [0.18804921, 0.35852373, 0.5799649, 0.63093144, 0.6906854, 0.7205624, 0.74516696, 0.7961336, 0.84182775, 0.86467487]}\n"
     ]
    }
   ],
   "source": [
    "print(model.history.history)"
   ]
  },
  {
   "cell_type": "code",
   "execution_count": 29,
   "metadata": {},
   "outputs": [
    {
     "data": {
      "image/png": "[encoded data removed]",
      "text/plain": [
       "<Figure size 432x288 with 1 Axes>"
      ]
     },
     "metadata": {
      "needs_background": "light"
     },
     "output_type": "display_data"
    }
   ],
   "source": [
    "#model 1 test result\n",
    "plt.plot(model.history.history['acc'])\n",
    "plt.plot(model.history.history['val_acc'])\n",
    "plt.title(\"Model1 Accuracy\")\n",
    "plt.xlabel('epoch')\n",
    "plt.ylabel('accuracy')\n",
    "plt.legend(['train','test'])\n",
    "\n",
    "plt.show()"
   ]
  },
  {
   "cell_type": "code",
   "execution_count": 30,
   "metadata": {},
   "outputs": [
    {
     "data": {
      "image/png": "[encoded data removed]",
      "text/plain": [
       "<Figure size 432x288 with 1 Axes>"
      ]
     },
     "metadata": {
      "needs_background": "light"
     },
     "output_type": "display_data"
    }
   ],
   "source": [
    "#model 1 test result\n",
    "plt.plot(model.history.history['loss'])\n",
    "plt.plot(model.history.history['val_loss'])\n",
    "plt.title(\"Model1 Loss\")\n",
    "plt.xlabel('epoch')\n",
    "plt.ylabel('loss')\n",
    "plt.legend(['train','test'])\n",
    "\n",
    "plt.show()"
   ]
  },
  {
   "cell_type": "code",
   "execution_count": null,
   "metadata": {},
   "outputs": [],
   "source": []
  }
 ],
 "metadata": {
  "kernelspec": {
   "display_name": "Python 3",
   "language": "python",
   "name": "python3"
  },
  "language_info": {
   "codemirror_mode": {
    "name": "ipython",
    "version": 3
   },
   "file_extension": ".py",
   "mimetype": "text/x-python",
   "name": "python",
   "nbconvert_exporter": "python",
   "pygments_lexer": "ipython3",
   "version": "3.6.12"
  }
 },
 "nbformat": 4,
 "nbformat_minor": 4
}
