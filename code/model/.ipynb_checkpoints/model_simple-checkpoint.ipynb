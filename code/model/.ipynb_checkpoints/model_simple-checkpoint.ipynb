{
 "cells": [
  {
   "cell_type": "code",
   "execution_count": 1,
   "metadata": {},
   "outputs": [
    {
     "name": "stderr",
     "output_type": "stream",
     "text": [
      "C:\\Users\\xiaob\\anaconda3\\envs\\project_726\\lib\\site-packages\\tensorflow\\python\\framework\\dtypes.py:516: FutureWarning: Passing (type, 1) or '1type' as a synonym of type is deprecated; in a future version of numpy, it will be understood as (type, (1,)) / '(1,)type'.\n",
      "  _np_qint8 = np.dtype([(\"qint8\", np.int8, 1)])\n",
      "C:\\Users\\xiaob\\anaconda3\\envs\\project_726\\lib\\site-packages\\tensorflow\\python\\framework\\dtypes.py:517: FutureWarning: Passing (type, 1) or '1type' as a synonym of type is deprecated; in a future version of numpy, it will be understood as (type, (1,)) / '(1,)type'.\n",
      "  _np_quint8 = np.dtype([(\"quint8\", np.uint8, 1)])\n",
      "C:\\Users\\xiaob\\anaconda3\\envs\\project_726\\lib\\site-packages\\tensorflow\\python\\framework\\dtypes.py:518: FutureWarning: Passing (type, 1) or '1type' as a synonym of type is deprecated; in a future version of numpy, it will be understood as (type, (1,)) / '(1,)type'.\n",
      "  _np_qint16 = np.dtype([(\"qint16\", np.int16, 1)])\n",
      "C:\\Users\\xiaob\\anaconda3\\envs\\project_726\\lib\\site-packages\\tensorflow\\python\\framework\\dtypes.py:519: FutureWarning: Passing (type, 1) or '1type' as a synonym of type is deprecated; in a future version of numpy, it will be understood as (type, (1,)) / '(1,)type'.\n",
      "  _np_quint16 = np.dtype([(\"quint16\", np.uint16, 1)])\n",
      "C:\\Users\\xiaob\\anaconda3\\envs\\project_726\\lib\\site-packages\\tensorflow\\python\\framework\\dtypes.py:520: FutureWarning: Passing (type, 1) or '1type' as a synonym of type is deprecated; in a future version of numpy, it will be understood as (type, (1,)) / '(1,)type'.\n",
      "  _np_qint32 = np.dtype([(\"qint32\", np.int32, 1)])\n",
      "C:\\Users\\xiaob\\anaconda3\\envs\\project_726\\lib\\site-packages\\tensorflow\\python\\framework\\dtypes.py:525: FutureWarning: Passing (type, 1) or '1type' as a synonym of type is deprecated; in a future version of numpy, it will be understood as (type, (1,)) / '(1,)type'.\n",
      "  np_resource = np.dtype([(\"resource\", np.ubyte, 1)])\n",
      "C:\\Users\\xiaob\\anaconda3\\envs\\project_726\\lib\\site-packages\\tensorboard\\compat\\tensorflow_stub\\dtypes.py:541: FutureWarning: Passing (type, 1) or '1type' as a synonym of type is deprecated; in a future version of numpy, it will be understood as (type, (1,)) / '(1,)type'.\n",
      "  _np_qint8 = np.dtype([(\"qint8\", np.int8, 1)])\n",
      "C:\\Users\\xiaob\\anaconda3\\envs\\project_726\\lib\\site-packages\\tensorboard\\compat\\tensorflow_stub\\dtypes.py:542: FutureWarning: Passing (type, 1) or '1type' as a synonym of type is deprecated; in a future version of numpy, it will be understood as (type, (1,)) / '(1,)type'.\n",
      "  _np_quint8 = np.dtype([(\"quint8\", np.uint8, 1)])\n",
      "C:\\Users\\xiaob\\anaconda3\\envs\\project_726\\lib\\site-packages\\tensorboard\\compat\\tensorflow_stub\\dtypes.py:543: FutureWarning: Passing (type, 1) or '1type' as a synonym of type is deprecated; in a future version of numpy, it will be understood as (type, (1,)) / '(1,)type'.\n",
      "  _np_qint16 = np.dtype([(\"qint16\", np.int16, 1)])\n",
      "C:\\Users\\xiaob\\anaconda3\\envs\\project_726\\lib\\site-packages\\tensorboard\\compat\\tensorflow_stub\\dtypes.py:544: FutureWarning: Passing (type, 1) or '1type' as a synonym of type is deprecated; in a future version of numpy, it will be understood as (type, (1,)) / '(1,)type'.\n",
      "  _np_quint16 = np.dtype([(\"quint16\", np.uint16, 1)])\n",
      "C:\\Users\\xiaob\\anaconda3\\envs\\project_726\\lib\\site-packages\\tensorboard\\compat\\tensorflow_stub\\dtypes.py:545: FutureWarning: Passing (type, 1) or '1type' as a synonym of type is deprecated; in a future version of numpy, it will be understood as (type, (1,)) / '(1,)type'.\n",
      "  _np_qint32 = np.dtype([(\"qint32\", np.int32, 1)])\n",
      "C:\\Users\\xiaob\\anaconda3\\envs\\project_726\\lib\\site-packages\\tensorboard\\compat\\tensorflow_stub\\dtypes.py:550: FutureWarning: Passing (type, 1) or '1type' as a synonym of type is deprecated; in a future version of numpy, it will be understood as (type, (1,)) / '(1,)type'.\n",
      "  np_resource = np.dtype([(\"resource\", np.ubyte, 1)])\n"
     ]
    }
   ],
   "source": [
    "import os\n",
    "import pandas as pd\n",
    "import numpy as np\n",
    "import matplotlib.pyplot as plt\n",
    "import tensorflow as tf\n",
    "from tensorflow import keras\n",
    "from sklearn.preprocessing import LabelBinarizer"
   ]
  },
  {
   "cell_type": "code",
   "execution_count": 2,
   "metadata": {},
   "outputs": [],
   "source": [
    "train_image = pd.read_csv('train.csv')\n",
    "test_image = pd.read_csv('test.csv')\n",
    "\n",
    "train_labels = np.array(train_image['label'].values)\n",
    "train_images = np.array(train_image.drop('label',axis=1).values)\n",
    "\n",
    "test_labels = np.array(test_image['label'].values)\n",
    "test_images = np.array(test_image.drop('label',axis=1).values)"
   ]
  },
  {
   "cell_type": "code",
   "execution_count": 3,
   "metadata": {},
   "outputs": [],
   "source": [
    "train_images_number = train_images.shape[0]\n",
    "train_images_height = 60\n",
    "train_images_width = 60\n",
    "train_images_size = train_images_height*train_images_width\n",
    "\n",
    "train_images = train_images / 255.0\n",
    "train_images = train_images.reshape(train_images_number, train_images_height, train_images_width, 1)"
   ]
  },
  {
   "cell_type": "code",
   "execution_count": 4,
   "metadata": {},
   "outputs": [],
   "source": [
    "test_images_number = test_images.shape[0]\n",
    "test_images_height = 60\n",
    "test_images_width = 60\n",
    "test_images_size = test_images_height*test_images_width\n",
    "\n",
    "test_images = test_images / 255.0\n",
    "test_images = test_images.reshape(test_images_number, test_images_height, test_images_width, 1)"
   ]
  },
  {
   "cell_type": "code",
   "execution_count": 5,
   "metadata": {},
   "outputs": [],
   "source": [
    "lb = LabelBinarizer()\n",
    "train_labels = lb.fit_transform(train_labels)\n",
    "test_labels = lb.fit_transform(test_labels)"
   ]
  },
  {
   "cell_type": "code",
   "execution_count": null,
   "metadata": {},
   "outputs": [
    {
     "name": "stdout",
     "output_type": "stream",
     "text": [
      "WARNING:tensorflow:From C:\\Users\\xiaob\\anaconda3\\envs\\project_726\\lib\\site-packages\\tensorflow\\python\\ops\\init_ops.py:1251: calling VarianceScaling.__init__ (from tensorflow.python.ops.init_ops) with dtype is deprecated and will be removed in a future version.\n",
      "Instructions for updating:\n",
      "Call initializer instance with the dtype argument instead of passing it to the constructor\n",
      "Train on 2845 samples, validate on 569 samples\n",
      "Epoch 1/50\n",
      "2845/2845 [==============================] - 6s 2ms/sample - loss: 2.4002 - acc: 0.2787 - val_loss: 1.7047 - val_acc: 0.4376\n",
      "Epoch 2/50\n",
      "2845/2845 [==============================] - 6s 2ms/sample - loss: 1.2994 - acc: 0.5877 - val_loss: 0.9275 - val_acc: 0.7083\n",
      "Epoch 3/50\n",
      "2845/2845 [==============================] - 5s 2ms/sample - loss: 0.8165 - acc: 0.7747 - val_loss: 0.5539 - val_acc: 0.8647\n",
      "Epoch 4/50\n",
      "2845/2845 [==============================] - 6s 2ms/sample - loss: 0.5427 - acc: 0.8622 - val_loss: 0.3699 - val_acc: 0.9438\n",
      "Epoch 5/50\n",
      "2845/2845 [==============================] - 6s 2ms/sample - loss: 0.3196 - acc: 0.9427 - val_loss: 0.2305 - val_acc: 0.9824\n",
      "Epoch 6/50\n",
      "2845/2845 [==============================] - 5s 2ms/sample - loss: 0.2292 - acc: 0.9599 - val_loss: 0.1854 - val_acc: 0.9701\n",
      "Epoch 7/50\n",
      "2845/2845 [==============================] - 5s 2ms/sample - loss: 0.1708 - acc: 0.9620 - val_loss: 0.1404 - val_acc: 0.9859\n",
      "Epoch 8/50\n",
      "2845/2845 [==============================] - 5s 2ms/sample - loss: 0.1217 - acc: 0.9666 - val_loss: 0.0622 - val_acc: 0.9965\n",
      "Epoch 9/50\n",
      "2845/2845 [==============================] - 6s 2ms/sample - loss: 0.0494 - acc: 0.9940 - val_loss: 0.0274 - val_acc: 0.9982\n",
      "Epoch 10/50\n",
      "2845/2845 [==============================] - 6s 2ms/sample - loss: 0.0250 - acc: 0.9989 - val_loss: 0.0205 - val_acc: 0.9965\n",
      "Epoch 11/50\n",
      "2845/2845 [==============================] - 6s 2ms/sample - loss: 0.0241 - acc: 0.9968 - val_loss: 0.0114 - val_acc: 1.0000\n",
      "Epoch 12/50\n",
      "2845/2845 [==============================] - 5s 2ms/sample - loss: 0.0141 - acc: 0.9986 - val_loss: 0.0090 - val_acc: 1.0000\n",
      "Epoch 13/50\n",
      "2845/2845 [==============================] - 6s 2ms/sample - loss: 0.0095 - acc: 0.9996 - val_loss: 0.0096 - val_acc: 1.0000\n",
      "Epoch 14/50\n",
      "2845/2845 [==============================] - 6s 2ms/sample - loss: 0.0079 - acc: 1.0000 - val_loss: 0.0049 - val_acc: 1.0000\n",
      "Epoch 15/50\n",
      "2845/2845 [==============================] - 6s 2ms/sample - loss: 0.0050 - acc: 1.0000 - val_loss: 0.0040 - val_acc: 1.0000\n",
      "Epoch 16/50\n",
      "2845/2845 [==============================] - 6s 2ms/sample - loss: 0.0040 - acc: 1.0000 - val_loss: 0.0041 - val_acc: 1.0000\n",
      "Epoch 17/50\n",
      "2845/2845 [==============================] - 6s 2ms/sample - loss: 0.0035 - acc: 1.0000 - val_loss: 0.0031 - val_acc: 1.0000\n",
      "Epoch 18/50\n",
      "2845/2845 [==============================] - 5s 2ms/sample - loss: 0.0029 - acc: 1.0000 - val_loss: 0.0027 - val_acc: 1.0000\n",
      "Epoch 19/50\n",
      "2432/2845 [========================>.....] - ETA: 0s - loss: 0.0027 - acc: 1.0000"
     ]
    }
   ],
   "source": [
    "# Build and train neural network\n",
    "model = tf.keras.Sequential([\n",
    "    keras.layers.Conv2D(64, (8,8), padding='same', activation='relu', input_shape=(60,60,1)),\n",
    "    keras.layers.MaxPooling2D(2,2),\n",
    "    keras.layers.Flatten(),\n",
    "    keras.layers.Dense(10, activation='relu'),\n",
    "    keras.layers.Dense(24, activation='softmax')\n",
    "])\n",
    "\n",
    "# Compile neural network\n",
    "model.compile(optimizer='adam',\n",
    "             loss='categorical_crossentropy',\n",
    "             metrics=['accuracy']\n",
    "             )\n",
    "\n",
    "# Train the neural network\n",
    "model.fit(train_images, train_labels, epochs=50, validation_data = (test_images,test_labels))"
   ]
  },
  {
   "cell_type": "code",
   "execution_count": null,
   "metadata": {},
   "outputs": [],
   "source": [
    "test_loss, test_accuracy = model.evaluate(test_images, test_labels)\n",
    "\n",
    "print('Model 1: Test loss: {}, Test accuracy: {}'.format(test_loss, (test_accuracy)*100))"
   ]
  },
  {
   "cell_type": "code",
   "execution_count": null,
   "metadata": {},
   "outputs": [],
   "source": [
    "print(model.history.history)"
   ]
  },
  {
   "cell_type": "code",
   "execution_count": null,
   "metadata": {},
   "outputs": [],
   "source": [
    "#model 1 test result\n",
    "plt.plot(model.history.history['acc'])\n",
    "plt.plot(model.history.history['val_acc'])\n",
    "plt.title(\"Model1 Accuracy\")\n",
    "plt.xlabel('epoch')\n",
    "plt.ylabel('accuracy')\n",
    "plt.legend(['train','test'])\n",
    "\n",
    "plt.show()"
   ]
  },
  {
   "cell_type": "code",
   "execution_count": null,
   "metadata": {},
   "outputs": [],
   "source": [
    "#model 1 test result\n",
    "plt.plot(model.history.history['loss'])\n",
    "plt.plot(model.history.history['val_loss'])\n",
    "plt.title(\"Model1 Loss\")\n",
    "plt.xlabel('epoch')\n",
    "plt.ylabel('loss')\n",
    "plt.legend(['train','test'])\n",
    "\n",
    "plt.show()"
   ]
  }
 ],
 "metadata": {
  "kernelspec": {
   "display_name": "Python 3",
   "language": "python",
   "name": "python3"
  },
  "language_info": {
   "codemirror_mode": {
    "name": "ipython",
    "version": 3
   },
   "file_extension": ".py",
   "mimetype": "text/x-python",
   "name": "python",
   "nbconvert_exporter": "python",
   "pygments_lexer": "ipython3",
   "version": "3.6.12"
  }
 },
 "nbformat": 4,
 "nbformat_minor": 4
}
