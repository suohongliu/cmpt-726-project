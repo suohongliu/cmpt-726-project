{
 "cells": [
  {
   "cell_type": "code",
   "execution_count": 1,
   "metadata": {},
   "outputs": [
    {
     "name": "stderr",
     "output_type": "stream",
     "text": [
      "C:\\Users\\xiaob\\anaconda3\\envs\\project_726\\lib\\site-packages\\tensorflow\\python\\framework\\dtypes.py:516: FutureWarning: Passing (type, 1) or '1type' as a synonym of type is deprecated; in a future version of numpy, it will be understood as (type, (1,)) / '(1,)type'.\n",
      "  _np_qint8 = np.dtype([(\"qint8\", np.int8, 1)])\n",
      "C:\\Users\\xiaob\\anaconda3\\envs\\project_726\\lib\\site-packages\\tensorflow\\python\\framework\\dtypes.py:517: FutureWarning: Passing (type, 1) or '1type' as a synonym of type is deprecated; in a future version of numpy, it will be understood as (type, (1,)) / '(1,)type'.\n",
      "  _np_quint8 = np.dtype([(\"quint8\", np.uint8, 1)])\n",
      "C:\\Users\\xiaob\\anaconda3\\envs\\project_726\\lib\\site-packages\\tensorflow\\python\\framework\\dtypes.py:518: FutureWarning: Passing (type, 1) or '1type' as a synonym of type is deprecated; in a future version of numpy, it will be understood as (type, (1,)) / '(1,)type'.\n",
      "  _np_qint16 = np.dtype([(\"qint16\", np.int16, 1)])\n",
      "C:\\Users\\xiaob\\anaconda3\\envs\\project_726\\lib\\site-packages\\tensorflow\\python\\framework\\dtypes.py:519: FutureWarning: Passing (type, 1) or '1type' as a synonym of type is deprecated; in a future version of numpy, it will be understood as (type, (1,)) / '(1,)type'.\n",
      "  _np_quint16 = np.dtype([(\"quint16\", np.uint16, 1)])\n",
      "C:\\Users\\xiaob\\anaconda3\\envs\\project_726\\lib\\site-packages\\tensorflow\\python\\framework\\dtypes.py:520: FutureWarning: Passing (type, 1) or '1type' as a synonym of type is deprecated; in a future version of numpy, it will be understood as (type, (1,)) / '(1,)type'.\n",
      "  _np_qint32 = np.dtype([(\"qint32\", np.int32, 1)])\n",
      "C:\\Users\\xiaob\\anaconda3\\envs\\project_726\\lib\\site-packages\\tensorflow\\python\\framework\\dtypes.py:525: FutureWarning: Passing (type, 1) or '1type' as a synonym of type is deprecated; in a future version of numpy, it will be understood as (type, (1,)) / '(1,)type'.\n",
      "  np_resource = np.dtype([(\"resource\", np.ubyte, 1)])\n",
      "C:\\Users\\xiaob\\anaconda3\\envs\\project_726\\lib\\site-packages\\tensorboard\\compat\\tensorflow_stub\\dtypes.py:541: FutureWarning: Passing (type, 1) or '1type' as a synonym of type is deprecated; in a future version of numpy, it will be understood as (type, (1,)) / '(1,)type'.\n",
      "  _np_qint8 = np.dtype([(\"qint8\", np.int8, 1)])\n",
      "C:\\Users\\xiaob\\anaconda3\\envs\\project_726\\lib\\site-packages\\tensorboard\\compat\\tensorflow_stub\\dtypes.py:542: FutureWarning: Passing (type, 1) or '1type' as a synonym of type is deprecated; in a future version of numpy, it will be understood as (type, (1,)) / '(1,)type'.\n",
      "  _np_quint8 = np.dtype([(\"quint8\", np.uint8, 1)])\n",
      "C:\\Users\\xiaob\\anaconda3\\envs\\project_726\\lib\\site-packages\\tensorboard\\compat\\tensorflow_stub\\dtypes.py:543: FutureWarning: Passing (type, 1) or '1type' as a synonym of type is deprecated; in a future version of numpy, it will be understood as (type, (1,)) / '(1,)type'.\n",
      "  _np_qint16 = np.dtype([(\"qint16\", np.int16, 1)])\n",
      "C:\\Users\\xiaob\\anaconda3\\envs\\project_726\\lib\\site-packages\\tensorboard\\compat\\tensorflow_stub\\dtypes.py:544: FutureWarning: Passing (type, 1) or '1type' as a synonym of type is deprecated; in a future version of numpy, it will be understood as (type, (1,)) / '(1,)type'.\n",
      "  _np_quint16 = np.dtype([(\"quint16\", np.uint16, 1)])\n",
      "C:\\Users\\xiaob\\anaconda3\\envs\\project_726\\lib\\site-packages\\tensorboard\\compat\\tensorflow_stub\\dtypes.py:545: FutureWarning: Passing (type, 1) or '1type' as a synonym of type is deprecated; in a future version of numpy, it will be understood as (type, (1,)) / '(1,)type'.\n",
      "  _np_qint32 = np.dtype([(\"qint32\", np.int32, 1)])\n",
      "C:\\Users\\xiaob\\anaconda3\\envs\\project_726\\lib\\site-packages\\tensorboard\\compat\\tensorflow_stub\\dtypes.py:550: FutureWarning: Passing (type, 1) or '1type' as a synonym of type is deprecated; in a future version of numpy, it will be understood as (type, (1,)) / '(1,)type'.\n",
      "  np_resource = np.dtype([(\"resource\", np.ubyte, 1)])\n"
     ]
    }
   ],
   "source": [
    "import os\n",
    "import pandas as pd\n",
    "import numpy as np\n",
    "import matplotlib.pyplot as plt\n",
    "import tensorflow as tf\n",
    "from tensorflow import keras\n",
    "from sklearn.preprocessing import LabelBinarizer"
   ]
  },
  {
   "cell_type": "code",
   "execution_count": 2,
   "metadata": {},
   "outputs": [
    {
     "name": "stdout",
     "output_type": "stream",
     "text": [
      "I:\\cmpt-726-project\\code\\model\n",
      "I:\\cmpt-726-project\\code\n",
      "I:\\cmpt-726-project\n"
     ]
    }
   ],
   "source": [
    "import os\n",
    "p = os.path.abspath(os.getcwd())\n",
    "p1, _ = os.path.split(p)\n",
    "datapath, _ = os.path.split(p1)\n",
    "print(p)\n",
    "print(p1)\n",
    "print(datapath)"
   ]
  },
  {
   "cell_type": "code",
   "execution_count": 3,
   "metadata": {},
   "outputs": [],
   "source": [
    "train_image = pd.read_csv(datapath + '\\data\\data2\\\\train.csv')\n",
    "test_image = pd.read_csv(datapath + '\\data\\data2\\\\test.csv')\n",
    "\n",
    "train_labels = np.array(train_image['label'].values)\n",
    "train_images = np.array(train_image.drop('label',axis=1).values)\n",
    "\n",
    "test_labels = np.array(test_image['label'].values)\n",
    "test_images = np.array(test_image.drop('label',axis=1).values)"
   ]
  },
  {
   "cell_type": "code",
   "execution_count": 4,
   "metadata": {},
   "outputs": [],
   "source": [
    "train_images = train_images / 255.0\n",
    "train_images = train_images.reshape(train_images.shape[0], 60, 60, 1)"
   ]
  },
  {
   "cell_type": "code",
   "execution_count": 5,
   "metadata": {},
   "outputs": [],
   "source": [
    "test_images = test_images / 255.0\n",
    "test_images = test_images.reshape(test_images.shape[0], 60, 60, 1)"
   ]
  },
  {
   "cell_type": "code",
   "execution_count": 6,
   "metadata": {},
   "outputs": [],
   "source": [
    "lb = LabelBinarizer()\n",
    "train_labels = lb.fit_transform(train_labels)\n",
    "test_labels = lb.fit_transform(test_labels)"
   ]
  },
  {
   "cell_type": "code",
   "execution_count": 9,
   "metadata": {},
   "outputs": [],
   "source": [
    "from tensorflow.keras import Sequential\n",
    "from tensorflow.keras.layers import Conv2D,MaxPool2D,Flatten,Dense,Dropout"
   ]
  },
  {
   "cell_type": "code",
   "execution_count": 11,
   "metadata": {},
   "outputs": [
    {
     "name": "stdout",
     "output_type": "stream",
     "text": [
      "Train on 2845 samples, validate on 569 samples\n",
      "Epoch 1/10\n",
      "2845/2845 [==============================] - 13s 4ms/sample - loss: 1.1032 - acc: 0.6668 - val_loss: 0.2291 - val_acc: 0.9367\n",
      "Epoch 2/10\n",
      "2845/2845 [==============================] - 13s 5ms/sample - loss: 0.1971 - acc: 0.9329 - val_loss: 0.0561 - val_acc: 0.9824\n",
      "Epoch 3/10\n",
      "2845/2845 [==============================] - 14s 5ms/sample - loss: 0.0888 - acc: 0.9701 - val_loss: 0.0475 - val_acc: 0.9842\n",
      "Epoch 4/10\n",
      "2845/2845 [==============================] - 13s 5ms/sample - loss: 0.0684 - acc: 0.9754 - val_loss: 0.0205 - val_acc: 0.9947\n",
      "Epoch 5/10\n",
      "2845/2845 [==============================] - 14s 5ms/sample - loss: 0.0396 - acc: 0.9870 - val_loss: 0.0081 - val_acc: 1.0000\n",
      "Epoch 6/10\n",
      "2845/2845 [==============================] - 13s 5ms/sample - loss: 0.0270 - acc: 0.9916 - val_loss: 0.0049 - val_acc: 1.0000\n",
      "Epoch 7/10\n",
      "2845/2845 [==============================] - 14s 5ms/sample - loss: 0.0224 - acc: 0.9933 - val_loss: 0.0016 - val_acc: 1.0000\n",
      "Epoch 8/10\n",
      "2845/2845 [==============================] - 13s 5ms/sample - loss: 0.0126 - acc: 0.9972 - val_loss: 0.0022 - val_acc: 1.0000\n",
      "Epoch 9/10\n",
      "2845/2845 [==============================] - 13s 5ms/sample - loss: 0.0191 - acc: 0.9940 - val_loss: 0.0282 - val_acc: 0.9930\n",
      "Epoch 10/10\n",
      "2845/2845 [==============================] - 13s 5ms/sample - loss: 0.0151 - acc: 0.9944 - val_loss: 0.0016 - val_acc: 1.0000\n"
     ]
    },
    {
     "data": {
      "text/plain": [
       "<tensorflow.python.keras.callbacks.History at 0x2562a505b00>"
      ]
     },
     "execution_count": 11,
     "metadata": {},
     "output_type": "execute_result"
    }
   ],
   "source": [
    "# Build and train neural network\n",
    "model2 = Sequential([\n",
    "    Conv2D(128, (5,5), strides=1,padding='same', activation='relu', input_shape=(60,60,1)),\n",
    "    MaxPool2D(pool_size=(3,3),strides=2,padding='same'),\n",
    "    Conv2D(64, (2,2), strides=1,padding='same', activation='relu'),\n",
    "    MaxPool2D(pool_size=(2,2),strides=2,padding='same'),\n",
    "    Conv2D(32, (2,2), strides=1,padding='same', activation='relu'),\n",
    "    MaxPool2D(pool_size=(2,2),strides=2,padding='same'),\n",
    "    Flatten(),\n",
    "    Dense(512, activation='relu'),\n",
    "    Dropout(rate=0.25),\n",
    "    Dense(24, activation='softmax')\n",
    "])\n",
    "\n",
    "# Compile neural network\n",
    "model2.compile(optimizer='adam',\n",
    "             loss='categorical_crossentropy',\n",
    "             metrics=['accuracy']\n",
    "             )\n",
    "\n",
    "# Train the neural network\n",
    "model2.fit(train_images, train_labels, epochs=10, validation_data = (test_images,test_labels))"
   ]
  },
  {
   "cell_type": "code",
   "execution_count": 12,
   "metadata": {},
   "outputs": [
    {
     "name": "stdout",
     "output_type": "stream",
     "text": [
      "569/569 [==============================] - 1s 1ms/sample - loss: 0.0016 - acc: 1.0000\n",
      "Model 2: Test loss: 0.001576795893266465, Test accuracy: 100.0\n"
     ]
    }
   ],
   "source": [
    "test_loss2, test_accuracy2 = model2.evaluate(test_images, test_labels)\n",
    "\n",
    "print('Model 2: Test loss: {}, Test accuracy: {}'.format(test_loss2, (test_accuracy2)*100))"
   ]
  },
  {
   "cell_type": "code",
   "execution_count": 13,
   "metadata": {},
   "outputs": [
    {
     "data": {
      "image/png": "[encoded data removed]",
      "text/plain": [
       "<Figure size 432x288 with 1 Axes>"
      ]
     },
     "metadata": {
      "needs_background": "light"
     },
     "output_type": "display_data"
    }
   ],
   "source": [
    "#model 2 test result\n",
    "plt.plot(model2.history.history['acc'])\n",
    "plt.plot(model2.history.history['val_acc'])\n",
    "plt.title(\"Model2 Accuracy\")\n",
    "plt.xlabel('epoch')\n",
    "plt.ylabel('accuracy')\n",
    "plt.legend(['train','test'])\n",
    "\n",
    "plt.show()"
   ]
  },
  {
   "cell_type": "code",
   "execution_count": 14,
   "metadata": {},
   "outputs": [
    {
     "data": {
      "image/png": "[encoded data removed]",
      "text/plain": [
       "<Figure size 432x288 with 1 Axes>"
      ]
     },
     "metadata": {
      "needs_background": "light"
     },
     "output_type": "display_data"
    }
   ],
   "source": [
    "#model 2 test result\n",
    "plt.plot(model2.history.history['loss'])\n",
    "plt.plot(model2.history.history['val_loss'])\n",
    "plt.title(\"Model2 Loss\")\n",
    "plt.xlabel('epoch')\n",
    "plt.ylabel('loss')\n",
    "plt.legend(['train','test'])\n",
    "\n",
    "plt.show()"
   ]
  },
  {
   "cell_type": "code",
   "execution_count": null,
   "metadata": {},
   "outputs": [],
   "source": []
  }
 ],
 "metadata": {
  "kernelspec": {
   "display_name": "Python 3",
   "language": "python",
   "name": "python3"
  },
  "language_info": {
   "codemirror_mode": {
    "name": "ipython",
    "version": 3
   },
   "file_extension": ".py",
   "mimetype": "text/x-python",
   "name": "python",
   "nbconvert_exporter": "python",
   "pygments_lexer": "ipython3",
   "version": "3.6.12"
  }
 },
 "nbformat": 4,
 "nbformat_minor": 4
}
