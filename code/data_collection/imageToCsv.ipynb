{
 "cells": [
  {
   "cell_type": "code",
   "execution_count": 1,
   "metadata": {},
   "outputs": [],
   "source": [
    "import numpy as np\n",
    "import os, os.path\n",
    "import cv2\n",
    "import matplotlib.pyplot as plt"
   ]
  },
  {
   "cell_type": "code",
   "execution_count": 3,
   "metadata": {},
   "outputs": [],
   "source": [
    "labels = [\"A\", \"B\", \"C\", \"D\", \"E\", \"F\", \"G\", \"H\", \"I\", \"K\", \"L\", \"M\", \"N\", \"O\", \"P\", \"Q\", \"R\", \"S\", \"T\", \"U\", \"V\", \"W\", \"X\", \"Y\"]\n",
    "labels_M = [\"A\", \"B\", \"C\", \"D\", \"E\", \"F\", \"G\", \"H\", \"I\", \"K\", \"L\", \"M\"]\n",
    "labels_Y = [\"N\", \"O\", \"P\", \"Q\", \"R\", \"S\", \"T\", \"U\", \"V\", \"W\", \"X\", \"Y\"]"
   ]
  },
  {
   "cell_type": "markdown",
   "metadata": {},
   "source": [
    "* the original image should be resized in case the over large image\n",
    "* in this problem I resize the original image (300\\*300) to (60\\*60)\n",
    "* need `flatten()` and `reshape(-1,1).T` before saving to csv file"
   ]
  },
  {
   "cell_type": "code",
   "execution_count": 4,
   "metadata": {},
   "outputs": [
    {
     "name": "stdout",
     "output_type": "stream",
     "text": [
      "finish: A\n",
      "finish: B\n",
      "finish: C\n",
      "finish: D\n",
      "finish: E\n",
      "finish: F\n",
      "finish: G\n",
      "finish: H\n",
      "finish: I\n",
      "finish: K\n",
      "finish: L\n",
      "finish: M\n",
      "finish: N\n",
      "finish: O\n",
      "finish: P\n",
      "finish: Q\n",
      "finish: R\n",
      "finish: S\n",
      "finish: T\n",
      "finish: U\n",
      "finish: V\n",
      "finish: W\n",
      "finish: X\n",
      "finish: Y\n",
      "All finish\n"
     ]
    }
   ],
   "source": [
    "# create csv from A to M\n",
    "for al in labels:\n",
    "    for img in os.listdir('data_self/{}'.format(al)):\n",
    "        img2 = plt.imread('data_self/{}/{}'.format(al,img))\n",
    "        img2 = cv2.resize(img2,(60,60))\n",
    "        img2 = img2.flatten()\n",
    "        img2 = img2.reshape(-1,1).T\n",
    "        with open('{}.csv'.format(al.lower()), 'ab') as f:\n",
    "            np.savetxt(f,img2,delimiter=',')\n",
    "    print(\"finish: \"+al)\n",
    "print(\"All finish\")"
   ]
  },
  {
   "cell_type": "code",
   "execution_count": 5,
   "metadata": {},
   "outputs": [],
   "source": [
    "import pandas as pd"
   ]
  },
  {
   "cell_type": "code",
   "execution_count": 6,
   "metadata": {},
   "outputs": [],
   "source": [
    "#initial 3600 lines with pixel 0 - 3600\n",
    "\n",
    "name = []\n",
    "for n in range(3600):\n",
    "    name.append('pixel'+str(n))\n",
    "\n",
    "# initial\n",
    "label_a = [0] * 114\n",
    "label_b = [1] * 106\n",
    "label_c = [2] * 113\n",
    "label_d = [3] * 110\n",
    "label_e = [4] * 105\n",
    "label_f = [5] * 116\n",
    "label_g = [6] * 117\n",
    "label_h = [7] * 109\n",
    "label_i = [8] * 119\n",
    "label_k = [9] * 115\n",
    "label_l = [10] * 119\n",
    "label_m = [11] * 116\n",
    "label_n = [12] * 126\n",
    "label_o = [13] * 125\n",
    "label_p = [14] * 119\n",
    "label_q = [15] * 125\n",
    "label_r = [16] * 122\n",
    "label_s = [17] * 118\n",
    "label_t = [18] * 129\n",
    "label_u = [19] * 122\n",
    "label_v = [20] * 124\n",
    "label_w = [21] * 121\n",
    "label_x = [22] * 132\n",
    "label_y = [23] * 123\n",
    "\n",
    "#print(len(label))\n",
    "#print (names)"
   ]
  },
  {
   "cell_type": "code",
   "execution_count": 7,
   "metadata": {},
   "outputs": [
    {
     "data": {
      "text/plain": [
       "<matplotlib.image.AxesImage at 0x2539578f630>"
      ]
     },
     "execution_count": 7,
     "metadata": {},
     "output_type": "execute_result"
    },
    {
     "data": {
      "image/png": "[encoded data removed]",
      "text/plain": [
       "<Figure size 432x288 with 1 Axes>"
      ]
     },
     "metadata": {
      "needs_background": "light"
     },
     "output_type": "display_data"
    }
   ],
   "source": [
    "#read csv\n",
    "a = pd.read_csv('a.csv',names=name)\n",
    "# add label column\n",
    "a.insert(loc=0,column='label',value=label_a)\n",
    "\n",
    "b = pd.read_csv('b.csv',names=name)\n",
    "b.insert(loc=0,column='label',value=label_b)\n",
    "\n",
    "c = pd.read_csv('c.csv',names=name)\n",
    "c.insert(loc=0,column='label',value=label_c)\n",
    "\n",
    "d = pd.read_csv('d.csv',names=name)\n",
    "d.insert(loc=0,column='label',value=label_d)\n",
    "\n",
    "e = pd.read_csv('e.csv',names=name)\n",
    "e.insert(loc=0,column='label',value=label_e)\n",
    "\n",
    "f = pd.read_csv('f.csv',names=name)\n",
    "f.insert(loc=0,column='label',value=label_f)\n",
    "\n",
    "g = pd.read_csv('g.csv',names=name)\n",
    "g.insert(loc=0,column='label',value=label_g)\n",
    "\n",
    "h = pd.read_csv('h.csv',names=name)\n",
    "h.insert(loc=0,column='label',value=label_h)\n",
    "\n",
    "i = pd.read_csv('i.csv',names=name)\n",
    "i.insert(loc=0,column='label',value=label_i)\n",
    "\n",
    "k = pd.read_csv('k.csv',names=name)\n",
    "k.insert(loc=0,column='label',value=label_k)\n",
    "\n",
    "l = pd.read_csv('l.csv',names=name)\n",
    "l.insert(loc=0,column='label',value=label_l)\n",
    "\n",
    "m = pd.read_csv('m.csv',names=name)\n",
    "m.insert(loc=0,column='label',value=label_m)\n",
    "\n",
    "n = pd.read_csv('n.csv',names=name)\n",
    "n.insert(loc=0,column='label',value=label_n)\n",
    "\n",
    "o = pd.read_csv('o.csv',names=name)\n",
    "o.insert(loc=0,column='label',value=label_o)\n",
    "\n",
    "p = pd.read_csv('p.csv',names=name)\n",
    "p.insert(loc=0,column='label',value=label_p)\n",
    "\n",
    "q = pd.read_csv('q.csv',names=name)\n",
    "q.insert(loc=0,column='label',value=label_q)\n",
    "\n",
    "r = pd.read_csv('r.csv',names=name)\n",
    "r.insert(loc=0,column='label',value=label_r)\n",
    "\n",
    "s = pd.read_csv('s.csv',names=name)\n",
    "s.insert(loc=0,column='label',value=label_s)\n",
    "\n",
    "t = pd.read_csv('t.csv',names=name)\n",
    "t.insert(loc=0,column='label',value=label_t)\n",
    "\n",
    "u = pd.read_csv('u.csv',names=name)\n",
    "u.insert(loc=0,column='label',value=label_u)\n",
    "\n",
    "v = pd.read_csv('v.csv',names=name)\n",
    "v.insert(loc=0,column='label',value=label_v)\n",
    "\n",
    "w = pd.read_csv('w.csv',names=name)\n",
    "w.insert(loc=0,column='label',value=label_w)\n",
    "\n",
    "x = pd.read_csv('x.csv',names=name)\n",
    "x.insert(loc=0,column='label',value=label_x)\n",
    "\n",
    "y = pd.read_csv('y.csv',names=name)\n",
    "y.insert(loc=0,column='label',value=label_y)\n",
    "\n",
    "\n",
    "\n",
    "\n",
    "\n",
    "\n",
    "#get value to array\n",
    "a_value = np.array(a.drop('label',axis=1).values)\n",
    "b_value = np.array(b.drop('label',axis=1).values)\n",
    "\n",
    "\n",
    "#show the first image\n",
    "plt.imshow(a_value[0].reshape(60,60))\n",
    "plt.imshow(b_value[0].reshape(60,60))\n"
   ]
  },
  {
   "cell_type": "code",
   "execution_count": 8,
   "metadata": {},
   "outputs": [
    {
     "name": "stdout",
     "output_type": "stream",
     "text": [
      "finish\n"
     ]
    }
   ],
   "source": [
    "#save to tain.csv\n",
    "a.to_csv('train_test.csv',index=False)\n",
    "b.to_csv('train_test.csv',mode='a',index=False,header=False)\n",
    "c.to_csv('train_test.csv',mode='a',index=False,header=False)\n",
    "d.to_csv('train_test.csv',mode='a',index=False,header=False)\n",
    "e.to_csv('train_test.csv',mode='a',index=False,header=False)\n",
    "f.to_csv('train_test.csv',mode='a',index=False,header=False)\n",
    "g.to_csv('train_test.csv',mode='a',index=False,header=False)\n",
    "h.to_csv('train_test.csv',mode='a',index=False,header=False)\n",
    "i.to_csv('train_test.csv',mode='a',index=False,header=False)\n",
    "k.to_csv('train_test.csv',mode='a',index=False,header=False)\n",
    "l.to_csv('train_test.csv',mode='a',index=False,header=False)\n",
    "m.to_csv('train_test.csv',mode='a',index=False,header=False)\n",
    "n.to_csv('train_test.csv',mode='a',index=False,header=False)\n",
    "o.to_csv('train_test.csv',mode='a',index=False,header=False)\n",
    "p.to_csv('train_test.csv',mode='a',index=False,header=False)\n",
    "q.to_csv('train_test.csv',mode='a',index=False,header=False)\n",
    "r.to_csv('train_test.csv',mode='a',index=False,header=False)\n",
    "s.to_csv('train_test.csv',mode='a',index=False,header=False)\n",
    "t.to_csv('train_test.csv',mode='a',index=False,header=False)\n",
    "u.to_csv('train_test.csv',mode='a',index=False,header=False)\n",
    "v.to_csv('train_test.csv',mode='a',index=False,header=False)\n",
    "w.to_csv('train_test.csv',mode='a',index=False,header=False)\n",
    "x.to_csv('train_test.csv',mode='a',index=False,header=False)\n",
    "y.to_csv('train_test.csv',mode='a',index=False,header=False)\n",
    "\n",
    "\n",
    "print('finish')"
   ]
  },
  {
   "cell_type": "code",
   "execution_count": 9,
   "metadata": {},
   "outputs": [
    {
     "name": "stdout",
     "output_type": "stream",
     "text": [
      "finish\n"
     ]
    }
   ],
   "source": [
    "\n",
    "train = pd.read_csv('train_test.csv')\n",
    "#train.head(3)\n",
    "\n",
    "train_value = np.array(train.drop('label',axis=1).values)\n",
    "\n",
    "#shuffle order\n",
    "train = train.reindex(np.random.permutation(train.index))\n",
    "#output real train csv file\n",
    "\n",
    "train.to_csv('train.csv',index=False)\n",
    "\n",
    "print(\"finish\")\n"
   ]
  },
  {
   "cell_type": "code",
   "execution_count": 10,
   "metadata": {},
   "outputs": [
    {
     "name": "stdout",
     "output_type": "stream",
     "text": [
      "finish\n"
     ]
    }
   ],
   "source": [
    "#get 20% of data from tain as test csv\n",
    "test_df = train.sample(frac=0.2)\n",
    "test_df.to_csv('test.csv',index=False)\n",
    "print(\"finish\")"
   ]
  },
  {
   "cell_type": "code",
   "execution_count": 11,
   "metadata": {},
   "outputs": [
    {
     "data": {
      "text/plain": [
       "<matplotlib.image.AxesImage at 0x25398483d30>"
      ]
     },
     "execution_count": 11,
     "metadata": {},
     "output_type": "execute_result"
    },
    {
     "data": {
      "image/png": "[encoded data removed]",
      "text/plain": [
       "<Figure size 432x288 with 1 Axes>"
      ]
     },
     "metadata": {
      "needs_background": "light"
     },
     "output_type": "display_data"
    }
   ],
   "source": [
    "plt.imshow(train_value[700].reshape(60,60))"
   ]
  },
  {
   "cell_type": "code",
   "execution_count": 12,
   "metadata": {},
   "outputs": [],
   "source": [
    "from functools import reduce"
   ]
  },
  {
   "cell_type": "code",
   "execution_count": 13,
   "metadata": {},
   "outputs": [
    {
     "data": {
      "text/plain": [
       "'MemoryError: Unable to allocate 1.16 TiB for an array with shape (3600, 44277288) and data type float64'"
      ]
     },
     "execution_count": 13,
     "metadata": {},
     "output_type": "execute_result"
    }
   ],
   "source": [
    "#train_df = [a,b,c,d]\n",
    "\"\"\"MemoryError: Unable to allocate 1.16 TiB for an array with shape (3600, 44277288) and data type float64\"\"\"\n",
    "#df_final = reduce(lambda left,right: pd.merge(left,right,on='label'), train_df)\n",
    "#print(\"finish\")\n"
   ]
  },
  {
   "cell_type": "code",
   "execution_count": 14,
   "metadata": {},
   "outputs": [
    {
     "data": {
      "text/html": [
       "<div>\n",
       "<style scoped>\n",
       "    .dataframe tbody tr th:only-of-type {\n",
       "        vertical-align: middle;\n",
       "    }\n",
       "\n",
       "    .dataframe tbody tr th {\n",
       "        vertical-align: top;\n",
       "    }\n",
       "\n",
       "    .dataframe thead th {\n",
       "        text-align: right;\n",
       "    }\n",
       "</style>\n",
       "<table border=\"1\" class=\"dataframe\">\n",
       "  <thead>\n",
       "    <tr style=\"text-align: right;\">\n",
       "      <th></th>\n",
       "      <th>label</th>\n",
       "      <th>pixel0</th>\n",
       "      <th>pixel1</th>\n",
       "      <th>pixel2</th>\n",
       "      <th>pixel3</th>\n",
       "      <th>pixel4</th>\n",
       "      <th>pixel5</th>\n",
       "      <th>pixel6</th>\n",
       "      <th>pixel7</th>\n",
       "      <th>pixel8</th>\n",
       "      <th>...</th>\n",
       "      <th>pixel3590</th>\n",
       "      <th>pixel3591</th>\n",
       "      <th>pixel3592</th>\n",
       "      <th>pixel3593</th>\n",
       "      <th>pixel3594</th>\n",
       "      <th>pixel3595</th>\n",
       "      <th>pixel3596</th>\n",
       "      <th>pixel3597</th>\n",
       "      <th>pixel3598</th>\n",
       "      <th>pixel3599</th>\n",
       "    </tr>\n",
       "  </thead>\n",
       "  <tbody>\n",
       "    <tr>\n",
       "      <th>0</th>\n",
       "      <td>1</td>\n",
       "      <td>0.0</td>\n",
       "      <td>0.0</td>\n",
       "      <td>0.0</td>\n",
       "      <td>0.0</td>\n",
       "      <td>0.0</td>\n",
       "      <td>0.0</td>\n",
       "      <td>0.0</td>\n",
       "      <td>0.0</td>\n",
       "      <td>0.0</td>\n",
       "      <td>...</td>\n",
       "      <td>0.0</td>\n",
       "      <td>0.0</td>\n",
       "      <td>0.0</td>\n",
       "      <td>0.0</td>\n",
       "      <td>0.0</td>\n",
       "      <td>0.0</td>\n",
       "      <td>0.0</td>\n",
       "      <td>0.0</td>\n",
       "      <td>0.0</td>\n",
       "      <td>0.0</td>\n",
       "    </tr>\n",
       "    <tr>\n",
       "      <th>1</th>\n",
       "      <td>1</td>\n",
       "      <td>0.0</td>\n",
       "      <td>0.0</td>\n",
       "      <td>0.0</td>\n",
       "      <td>0.0</td>\n",
       "      <td>0.0</td>\n",
       "      <td>0.0</td>\n",
       "      <td>0.0</td>\n",
       "      <td>0.0</td>\n",
       "      <td>0.0</td>\n",
       "      <td>...</td>\n",
       "      <td>0.0</td>\n",
       "      <td>0.0</td>\n",
       "      <td>0.0</td>\n",
       "      <td>0.0</td>\n",
       "      <td>0.0</td>\n",
       "      <td>0.0</td>\n",
       "      <td>0.0</td>\n",
       "      <td>0.0</td>\n",
       "      <td>0.0</td>\n",
       "      <td>0.0</td>\n",
       "    </tr>\n",
       "    <tr>\n",
       "      <th>2</th>\n",
       "      <td>1</td>\n",
       "      <td>0.0</td>\n",
       "      <td>0.0</td>\n",
       "      <td>0.0</td>\n",
       "      <td>0.0</td>\n",
       "      <td>0.0</td>\n",
       "      <td>0.0</td>\n",
       "      <td>0.0</td>\n",
       "      <td>0.0</td>\n",
       "      <td>0.0</td>\n",
       "      <td>...</td>\n",
       "      <td>0.0</td>\n",
       "      <td>0.0</td>\n",
       "      <td>0.0</td>\n",
       "      <td>0.0</td>\n",
       "      <td>0.0</td>\n",
       "      <td>0.0</td>\n",
       "      <td>0.0</td>\n",
       "      <td>0.0</td>\n",
       "      <td>0.0</td>\n",
       "      <td>0.0</td>\n",
       "    </tr>\n",
       "  </tbody>\n",
       "</table>\n",
       "<p>3 rows × 3601 columns</p>\n",
       "</div>"
      ],
      "text/plain": [
       "   label  pixel0  pixel1  pixel2  pixel3  pixel4  pixel5  pixel6  pixel7  \\\n",
       "0      1     0.0     0.0     0.0     0.0     0.0     0.0     0.0     0.0   \n",
       "1      1     0.0     0.0     0.0     0.0     0.0     0.0     0.0     0.0   \n",
       "2      1     0.0     0.0     0.0     0.0     0.0     0.0     0.0     0.0   \n",
       "\n",
       "   pixel8  ...  pixel3590  pixel3591  pixel3592  pixel3593  pixel3594  \\\n",
       "0     0.0  ...        0.0        0.0        0.0        0.0        0.0   \n",
       "1     0.0  ...        0.0        0.0        0.0        0.0        0.0   \n",
       "2     0.0  ...        0.0        0.0        0.0        0.0        0.0   \n",
       "\n",
       "   pixel3595  pixel3596  pixel3597  pixel3598  pixel3599  \n",
       "0        0.0        0.0        0.0        0.0        0.0  \n",
       "1        0.0        0.0        0.0        0.0        0.0  \n",
       "2        0.0        0.0        0.0        0.0        0.0  \n",
       "\n",
       "[3 rows x 3601 columns]"
      ]
     },
     "execution_count": 14,
     "metadata": {},
     "output_type": "execute_result"
    }
   ],
   "source": [
    "len(a.columns)\n",
    "a.head(3)\n",
    "b.head(3)"
   ]
  },
  {
   "cell_type": "code",
   "execution_count": 15,
   "metadata": {},
   "outputs": [
    {
     "data": {
      "text/plain": [
       "<matplotlib.image.AxesImage at 0x253988b25c0>"
      ]
     },
     "execution_count": 15,
     "metadata": {},
     "output_type": "execute_result"
    },
    {
     "data": {
      "image/png": "[encoded data removed]",
      "text/plain": [
       "<Figure size 432x288 with 1 Axes>"
      ]
     },
     "metadata": {
      "needs_background": "light"
     },
     "output_type": "display_data"
    }
   ],
   "source": [
    "plt.imshow(a_value[1].reshape(60,60))"
   ]
  },
  {
   "cell_type": "code",
   "execution_count": null,
   "metadata": {},
   "outputs": [],
   "source": []
  }
 ],
 "metadata": {
  "kernelspec": {
   "display_name": "Python 3",
   "language": "python",
   "name": "python3"
  },
  "language_info": {
   "codemirror_mode": {
    "name": "ipython",
    "version": 3
   },
   "file_extension": ".py",
   "mimetype": "text/x-python",
   "name": "python",
   "nbconvert_exporter": "python",
   "pygments_lexer": "ipython3",
   "version": "3.6.12"
  }
 },
 "nbformat": 4,
 "nbformat_minor": 4
}
