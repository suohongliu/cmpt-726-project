{
 "cells": [
  {
   "cell_type": "code",
   "execution_count": 12,
   "metadata": {},
   "outputs": [
    {
     "name": "stdout",
     "output_type": "stream",
     "text": [
      "WARNING:tensorflow:From C:\\Users\\xiaob\\anaconda3\\envs\\project_726\\lib\\site-packages\\tensorflow\\python\\ops\\init_ops.py:97: calling GlorotUniform.__init__ (from tensorflow.python.ops.init_ops) with dtype is deprecated and will be removed in a future version.\n",
      "Instructions for updating:\n",
      "Call initializer instance with the dtype argument instead of passing it to the constructor\n",
      "WARNING:tensorflow:From C:\\Users\\xiaob\\anaconda3\\envs\\project_726\\lib\\site-packages\\tensorflow\\python\\ops\\init_ops.py:1251: calling VarianceScaling.__init__ (from tensorflow.python.ops.init_ops) with dtype is deprecated and will be removed in a future version.\n",
      "Instructions for updating:\n",
      "Call initializer instance with the dtype argument instead of passing it to the constructor\n",
      "WARNING:tensorflow:From C:\\Users\\xiaob\\anaconda3\\envs\\project_726\\lib\\site-packages\\tensorflow\\python\\ops\\init_ops.py:97: calling Zeros.__init__ (from tensorflow.python.ops.init_ops) with dtype is deprecated and will be removed in a future version.\n",
      "Instructions for updating:\n",
      "Call initializer instance with the dtype argument instead of passing it to the constructor\n"
     ]
    }
   ],
   "source": [
    "import cv2\n",
    "import numpy as np\n",
    "import tensorflow as tf\n",
    "import os\n",
    "p = os.path.abspath(os.getcwd()) + 'models/model_self.model'\n",
    "\n",
    "#model1 = tf.keras.models.load_model(\"model1.model\")\n",
    "model2 = tf.keras.models.load_model('models/model_self.model')\n",
    "labels = [\"A\", \"B\", \"C\", \"D\", \"E\", \"F\", \"G\", \"H\", \"I\", \"K\", \"L\", \"M\", \"N\", \"O\", \"P\", \"Q\", \"R\", \"S\", \"T\", \"U\", \"V\", \"W\", \"X\", \"Y\"]\n",
    "\n",
    "font=cv2.FONT_HERSHEY_SIMPLEX\n",
    "size = 0.5\n",
    "\n",
    "width,height = 300,300\n",
    "x0,y0=300,100\n",
    "\n",
    "cam = cv2.VideoCapture(0)\n",
    "#time.sleep(2)\n",
    "\n",
    "text = \"\"\n",
    "\n",
    "i=0\n",
    "\n",
    "while(1):\n",
    "    ret,frame = cam.read()\n",
    "    \n",
    "    #flip the frame\n",
    "    frame = cv2.flip(frame,2)\n",
    "    \n",
    "    cv2.rectangle(frame,(x0,y0),(x0+width,y0+height),(0,255,0))\n",
    "    roi = frame[y0:y0+height,x0:x0+width]\n",
    "    \n",
    "    #convert to Ycbcr\n",
    "    YCrCb = cv2.cvtColor(roi, cv2.COLOR_BGR2YCR_CB)\n",
    "    #split to YCbCr \n",
    "    (y,cr,cb) = cv2.split(YCrCb)\n",
    "    \n",
    "    # Global thresholding\n",
    "    #_, th1 = cv2.threshold(cr, 127, 255, cv2.THRESH_BINARY)\n",
    "    cr1 = cv2.GaussianBlur(cr, (5,5), 0)\n",
    "    \n",
    "    #otu's\n",
    "    _, skin = cv2.threshold(cr1, 0, 255, cv2.THRESH_BINARY + cv2.THRESH_OTSU)\n",
    "    res = cv2.bitwise_and(roi,roi, mask = skin)\n",
    "    #to gray\n",
    "    or_res = cv2.cvtColor(res,cv2.COLOR_BGR2GRAY)\n",
    "    \n",
    "    res = or_res / 255\n",
    "    \n",
    "    #resize and reshape 60 * 60\n",
    "    new_res = cv2.resize(res,(60,60))\n",
    "    pre = model2.predict_classes(new_res.reshape(-1,60,60,1))\n",
    "    text = \"Prediction: \"+labels[pre[0]]\n",
    "    \n",
    "    \n",
    "    key = cv2.waitKey(1) & 0xFF\n",
    "    \n",
    "    if key == ord('q'):\n",
    "        break\n",
    "\n",
    "    \n",
    "    cv2.putText(frame,f'{text}',(10,20),font,0.5,(0,0,255),2)\n",
    "    \n",
    "    cv2.imshow('frame',frame)\n",
    "    cv2.imshow('res',or_res)\n",
    "    #cv2.imshow('y',y)\n",
    "    #cv2.imshow('cr',cr)\n",
    "    #cv2.imshow('cb',cb)\n",
    "    #cv2.imshow('roi',roi)\n",
    "    \n",
    "    \n",
    "cam.release()\n",
    "cv2.destroyAllWindows()    "
   ]
  },
  {
   "cell_type": "code",
   "execution_count": 3,
   "metadata": {},
   "outputs": [
    {
     "data": {
      "text/plain": [
       "'\\nif key == ord(\\'a\\'):\\n        cv2.imwrite(\"data_self/A/{}.jpg\".format(i),res)\\n        i += 1\\n    \\n    if key == ord(\\'b\\'):\\n        cv2.imwrite(\"data_self/B/{}.jpg\".format(j),res)\\n        i += 1\\n    \\n    if key == ord(\\'c\\'):\\n        cv2.imwrite(\"data_self/C/{}.jpg\".format(k),res)\\n        i += 1\\n        \\n    if key == ord(\\'d\\'):\\n        cv2.imwrite(\"data_self/D/{}.jpg\".format(l),res)\\n        i += 1\\n    \\n    if key == ord(\\'e\\'):\\n        cv2.imwrite(\"data_self/E/{}.jpg\".format(l),res)\\n        i += 1\\n        \\n    if key == ord(\\'f\\'):\\n        cv2.imwrite(\"data_self/F/{}.jpg\".format(l),res)\\n        i += 1\\n    \\n    if key == ord(\\'g\\'):\\n        cv2.imwrite(\"data_self/G/{}.jpg\".format(l),res)\\n        i += 1\\n        \\n    if key == ord(\\'h\\'):\\n        cv2.imwrite(\"data_self/H/{}.jpg\".format(l),res)\\n        i += 1\\n    \\n    if key == ord(\\'i\\'):\\n        cv2.imwrite(\"data_self/I/{}.jpg\".format(l),res)\\n        i += 1\\n    \\n    if key == ord(\\'j\\'):\\n        cv2.imwrite(\"data_self/J/{}.jpg\".format(l),res)\\n        i += 1\\n        \\n    if key == ord(\\'k\\'):\\n        cv2.imwrite(\"data_self/K/{}.jpg\".format(l),res)\\n        i += 1  \\n        \\n    if key == ord(\\'l\\'):\\n        cv2.imwrite(\"data_self/L/{}.jpg\".format(l),res)\\n        i += 1\\n        \\n    if key == ord(\\'m\\'):\\n        cv2.imwrite(\"data_self/M/{}.jpg\".format(l),res)\\n        i += 1    \\n    \\n    if key == ord(\\'n\\'):\\n        cv2.imwrite(\"data_self/N/{}.jpg\".format(l),res)\\n        i += 1\\n        \\n    if key == ord(\\'o\\'):\\n        cv2.imwrite(\"data_self/O/{}.jpg\".format(l),res)\\n        i += 1\\n    \\n    if key == ord(\\'p\\'):\\n        cv2.imwrite(\"data_self/P/{}.jpg\".format(l),res)\\n        i += 1\\n'"
      ]
     },
     "execution_count": 3,
     "metadata": {},
     "output_type": "execute_result"
    }
   ],
   "source": [
    "\"\"\"for al in labels:\n",
    "        if key == ord(al.lower()):\n",
    "            cv2.imwrite(\"data_self/{}/{}.jpg\".format(al,i),res)\n",
    "            i += 1\"\"\"\n",
    "\n",
    "\n",
    "\"\"\"\n",
    "if key == ord('a'):\n",
    "        cv2.imwrite(\"data_self/A/{}.jpg\".format(i),res)\n",
    "        i += 1\n",
    "    \n",
    "    if key == ord('b'):\n",
    "        cv2.imwrite(\"data_self/B/{}.jpg\".format(j),res)\n",
    "        i += 1\n",
    "    \n",
    "    if key == ord('c'):\n",
    "        cv2.imwrite(\"data_self/C/{}.jpg\".format(k),res)\n",
    "        i += 1\n",
    "        \n",
    "    if key == ord('d'):\n",
    "        cv2.imwrite(\"data_self/D/{}.jpg\".format(l),res)\n",
    "        i += 1\n",
    "    \n",
    "    if key == ord('e'):\n",
    "        cv2.imwrite(\"data_self/E/{}.jpg\".format(l),res)\n",
    "        i += 1\n",
    "        \n",
    "    if key == ord('f'):\n",
    "        cv2.imwrite(\"data_self/F/{}.jpg\".format(l),res)\n",
    "        i += 1\n",
    "    \n",
    "    if key == ord('g'):\n",
    "        cv2.imwrite(\"data_self/G/{}.jpg\".format(l),res)\n",
    "        i += 1\n",
    "        \n",
    "    if key == ord('h'):\n",
    "        cv2.imwrite(\"data_self/H/{}.jpg\".format(l),res)\n",
    "        i += 1\n",
    "    \n",
    "    if key == ord('i'):\n",
    "        cv2.imwrite(\"data_self/I/{}.jpg\".format(l),res)\n",
    "        i += 1\n",
    "    \n",
    "    if key == ord('j'):\n",
    "        cv2.imwrite(\"data_self/J/{}.jpg\".format(l),res)\n",
    "        i += 1\n",
    "        \n",
    "    if key == ord('k'):\n",
    "        cv2.imwrite(\"data_self/K/{}.jpg\".format(l),res)\n",
    "        i += 1  \n",
    "        \n",
    "    if key == ord('l'):\n",
    "        cv2.imwrite(\"data_self/L/{}.jpg\".format(l),res)\n",
    "        i += 1\n",
    "        \n",
    "    if key == ord('m'):\n",
    "        cv2.imwrite(\"data_self/M/{}.jpg\".format(l),res)\n",
    "        i += 1    \n",
    "    \n",
    "    if key == ord('n'):\n",
    "        cv2.imwrite(\"data_self/N/{}.jpg\".format(l),res)\n",
    "        i += 1\n",
    "        \n",
    "    if key == ord('o'):\n",
    "        cv2.imwrite(\"data_self/O/{}.jpg\".format(l),res)\n",
    "        i += 1\n",
    "    \n",
    "    if key == ord('p'):\n",
    "        cv2.imwrite(\"data_self/P/{}.jpg\".format(l),res)\n",
    "        i += 1\n",
    "\"\"\""
   ]
  },
  {
   "cell_type": "code",
   "execution_count": 7,
   "metadata": {},
   "outputs": [
    {
     "name": "stdout",
     "output_type": "stream",
     "text": [
      "I:\\cmpt-726-project\\models\\model_self1.model\n",
      "I:\\cmpt-726-project\\models\n",
      "I:\\cmpt-726-project\n"
     ]
    }
   ],
   "source": [
    "import os\n",
    "p = os.path.abspath(os.getcwd()) + '\\models\\\\model_self1.model'\n"
   ]
  },
  {
   "cell_type": "code",
   "execution_count": null,
   "metadata": {},
   "outputs": [],
   "source": []
  }
 ],
 "metadata": {
  "kernelspec": {
   "display_name": "Python 3",
   "language": "python",
   "name": "python3"
  },
  "language_info": {
   "codemirror_mode": {
    "name": "ipython",
    "version": 3
   },
   "file_extension": ".py",
   "mimetype": "text/x-python",
   "name": "python",
   "nbconvert_exporter": "python",
   "pygments_lexer": "ipython3",
   "version": "3.6.12"
  }
 },
 "nbformat": 4,
 "nbformat_minor": 4
}
